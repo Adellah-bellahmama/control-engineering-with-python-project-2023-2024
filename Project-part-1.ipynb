{
  "cells": [
    {
      "cell_type": "markdown",
      "metadata": {
        "tags": [],
        "id": "BigTSIWSibxi"
      },
      "source": [
        "# Self-Balancing Scooter Control\n",
        "\n",
        "![](images/self-balancing-scooter.png)\n",
        "\n",
        "> A self-balancing scooter [...] is a self-balancing personal transporter consisting of two motorized wheels connected to a pair of articulated pads on which the rider places their feet. The rider controls the speed by leaning forward or backward, and direction of travel by twisting the pads.\n",
        ">\n",
        "> Source: <https://en.wikipedia.org/wiki/Self-balancing_scooter>"
      ]
    },
    {
      "cell_type": "markdown",
      "metadata": {
        "id": "iK6x4Mp7ibxk"
      },
      "source": [
        "### Python Dependencies"
      ]
    },
    {
      "cell_type": "code",
      "execution_count": null,
      "metadata": {
        "id": "uR75eU8Jibxk"
      },
      "outputs": [],
      "source": [
        "from numpy import *\n",
        "from numpy.linalg import *\n",
        "\n",
        "from scipy.linalg import *\n",
        "from scipy.integrate import *\n",
        "from scipy.signal import *\n",
        "\n",
        "from matplotlib.pyplot import *"
      ]
    },
    {
      "cell_type": "markdown",
      "metadata": {
        "tags": [],
        "id": "pTViyl3jibxl"
      },
      "source": [
        "Step 1 - Scooter Planar Model\n",
        "================================"
      ]
    },
    {
      "cell_type": "markdown",
      "metadata": {
        "tags": [],
        "id": "6fOtUxsEibxm"
      },
      "source": [
        "### Introduction"
      ]
    },
    {
      "cell_type": "markdown",
      "metadata": {
        "tags": [],
        "id": "MM6XsjcBibxm"
      },
      "source": [
        "We consider a simple model of a self-balancing scooter evolving in the plane. It is mainly made of\n",
        "\n",
        "  - The frame that contains the two articulated pads; from above, each pad essentially look like a triangle (one vertice in the center of the frame, one vertice at each extremity of the wheel).\n",
        "\n",
        "  - Two fixed wheels (their orientation with respect to the frame does not change).\n",
        "    They are parallel and located at opposite ends of the frame.\n",
        "    \n",
        "Let $(0, e_x, e_y)$ be a direct orthonormal frame of the plane. We denote\n",
        "\n",
        "  - $(x, y)$ the coordinates of the wheel axis center in the orthonormal and\n",
        "  - $\\theta$ the angle of the wheels direction with respect to vector $e_x$ ; with $\\theta = 0$ when the front of the scooter faces the right ($e_x$) and $\\theta = \\pi/2$ when it faces upwards ($e_y$).\n",
        "\n",
        "  - $\\phi_l$ and $\\phi_r$ the rotation angles of the left and right wheel respectively ; by convention, when these angles increase, the scooter moves forward."
      ]
    },
    {
      "cell_type": "markdown",
      "metadata": {
        "tags": [],
        "id": "nrKz_egLibxm"
      },
      "source": [
        "### Parameter Definition"
      ]
    },
    {
      "cell_type": "markdown",
      "metadata": {
        "tags": [],
        "id": "NxP7VsSCibxm"
      },
      "source": [
        "From now on, we assume that the seat frame length is $\\ell = 50 \\mbox{ cm}$ and the wheel radius is $r = 12.5 \\mbox{ cm}$.\n",
        "\n",
        "🧩 Define the corresponding Python variables `l` and `r` (express every length in meters, and more generally in the sequel, always use the [international standard of units](https://en.wikipedia.org/wiki/SI_derived_unit)) for numerical values."
      ]
    },
    {
      "cell_type": "code",
      "execution_count": null,
      "metadata": {
        "id": "WQs7PZbuibxm"
      },
      "outputs": [],
      "source": [
        "l = 50 * 10**(-2) # in meters\n",
        "r = 12.5 * 10**(-2) #in meters\n",
        "pass"
      ]
    },
    {
      "cell_type": "markdown",
      "metadata": {
        "id": "PtcoB1_Vibxn"
      },
      "source": [
        "### Graphical Representation\n",
        "\n",
        "🧩 Implement a function `draw_scooter` with arguments `x`, `y` and `theta` that draws a simple geometric model of the wheelchair (with a red frame and black fixed wheels) in the plane (top view) for arbitrary values of $(x, y)$ and $\\theta$. Use a green circle marker 50 cm in of the frame to indicate which way is forward.\n",
        "\n",
        "🗝️ **Hint.** Use the function `plot` of `matplotlib.pyplot`."
      ]
    },
    {
      "cell_type": "code",
      "execution_count": null,
      "metadata": {
        "id": "eQFqtE3Kibxn",
        "colab": {
          "base_uri": "https://localhost:8080/",
          "height": 527
        },
        "outputId": "40e8c76b-e572-49a6-99c2-d2c7663de161"
      },
      "outputs": [
        {
          "output_type": "stream",
          "name": "stderr",
          "text": [
            "<ipython-input-118-cced79ccc0f0>:48: UserWarning: Attempting to set identical low and high xlims makes transformation singular; automatically expanding.\n",
            "  plt.xlim(-1, -1)  # Unités sur l'axe x\n"
          ]
        },
        {
          "output_type": "display_data",
          "data": {
            "text/plain": [
              "<Figure size 640x480 with 1 Axes>"
            ],
            "image/png": "[encoded data removed]"
          },
          "metadata": {}
        }
      ],
      "source": [
        "import matplotlib.pyplot as plt\n",
        "\n",
        "def draw_scooter(x, y, theta):\n",
        "    # Définition des dimensions\n",
        "    l = 50/100    # Longueur du cadre du siège en centimètres\n",
        "    r = 12.5/100  # Rayon de la roue en centimètres\n",
        "\n",
        "    # Calcul des coordonnées des points du cadre\n",
        "    cadre_points = np.array([[x, y],\n",
        "                             [x - l/2, y + r],\n",
        "                             [x - l/2, y - r],\n",
        "                             [x + l/2, y + r],\n",
        "                             [x + l/2, y - r]])\n",
        "\n",
        "    # Transformation des coordonnées en fonction de l'angle theta\n",
        "    rotation_matrix = np.array([[np.sin(theta), np.cos(theta)],\n",
        "                                [np.cos(theta), -np.sin(theta)]])\n",
        "    rotated_cadre_points = np.dot(cadre_points - [x, y], rotation_matrix) + [x, y]\n",
        "\n",
        "    # Dessin du cadre\n",
        "    plt.plot(rotated_cadre_points[:,0], rotated_cadre_points[:,1], 'r-')\n",
        "\n",
        "    # Dessin et remplissage des triangles représentant les patins\n",
        "    plt.fill([rotated_cadre_points[0,0], rotated_cadre_points[1,0], rotated_cadre_points[2,0], rotated_cadre_points[0,0]],\n",
        "             [rotated_cadre_points[0,1], rotated_cadre_points[1,1], rotated_cadre_points[2,1], rotated_cadre_points[0,1]], 'r')\n",
        "    plt.fill([rotated_cadre_points[0,0], rotated_cadre_points[3,0], rotated_cadre_points[4,0], rotated_cadre_points[0,0]],\n",
        "             [rotated_cadre_points[0,1], rotated_cadre_points[3,1], rotated_cadre_points[4,1], rotated_cadre_points[0,1]], 'r')\n",
        "\n",
        "    # Dessin des roues aux extrémités des patins avec une épaisseur de ligne plus importante\n",
        "    plt.plot([rotated_cadre_points[1,0], rotated_cadre_points[2,0]], [rotated_cadre_points[1,1], rotated_cadre_points[2,1]], 'k-', linewidth=3)\n",
        "    plt.plot([rotated_cadre_points[3,0], rotated_cadre_points[4,0]], [rotated_cadre_points[3,1], rotated_cadre_points[4,1]], 'k-', linewidth=3)\n",
        "\n",
        "    # Calcul des coordonnées du marqueur vert indiquant la direction avant\n",
        "    forward_marker_x = x + 50/100 * np.cos(theta)\n",
        "    forward_marker_y = y + 50/100 * np.sin(theta)\n",
        "\n",
        "    # Dessin du marqueur vert\n",
        "    plt.plot(forward_marker_x, forward_marker_y, 'go', markersize=5)\n",
        "\n",
        "    # Configuration des axes\n",
        "    plt.axis('equal')\n",
        "    plt.xlabel('x (m)')\n",
        "    plt.ylabel('y (m)')\n",
        "    plt.title('Vue de dessus de la trottinette')\n",
        "\n",
        "    # Affichage\n",
        "    plt.grid(True)\n",
        "    plt.xlim(-1, -1)  # Unités sur l'axe x\n",
        "    plt.ylim(-1, 1) # Unités sur l'axe y\n",
        "\n",
        "# Exemple d'utilisation\n",
        "draw_scooter(0, 0, pi/2)\n"
      ]
    },
    {
      "cell_type": "markdown",
      "metadata": {
        "id": "0bDiu3Jiibxn"
      },
      "source": [
        "🧩 Represent the wheelchair when $(x, y, \\theta) = (0, 0, 0), (2, 2, \\pi/2), (0, 4, \\pi), (-2, 2, 3\\pi/2)$.\n",
        "\n",
        "🗝️ **Hint.** Use the following `draw_arena` function beforehand."
      ]
    },
    {
      "cell_type": "code",
      "execution_count": null,
      "metadata": {
        "id": "OTeg5pEQibxn"
      },
      "outputs": [],
      "source": [
        "def draw_arena(xmin, xmax, ymin, ymax):\n",
        "    wh_ratio = (xmax - xmin) / (ymax - ymin)\n",
        "    figsize = fig_width, fig_height = 16, 16 / wh_ratio\n",
        "    figure(figsize=figsize)\n",
        "    axes = gca()\n",
        "    axes.axis([xmin, xmax, ymin, ymax])\n",
        "    axes.set_aspect(1)\n",
        "    xticks(arange(xmin, xmax+1, 1))\n",
        "    yticks(arange(ymin, ymax+1, 1))\n",
        "    grid(True)"
      ]
    },
    {
      "cell_type": "code",
      "source": [
        "positions = [(0, 0, 0), (2, 2, np.pi/2), (0, 4, np.pi), (-2, 2, 3*np.pi/2)]\n",
        "# Calculer les limites des axes pour centrer les trottinettes\n",
        "x_min = min(pos[0] for pos in positions)\n",
        "x_max = max(pos[0] for pos in positions)\n",
        "y_min = min(pos[1] for pos in positions)\n",
        "y_max = max(pos[1] for pos in positions)\n",
        "\n",
        "# Dessiner les trottinettes centrées\n",
        "for pos in positions:\n",
        "    draw_scooter(*pos)\n",
        "\n",
        "# Ajuster les limites des axes pour centrer les trottinettes\n",
        "plt.xlim(x_min - 1, x_max + 1)\n",
        "plt.ylim(y_min - 1, y_max + 1)\n",
        "\n",
        "# Configuration des axes\n",
        "plt.xlabel('x (m)')\n",
        "plt.ylabel('y (m)')\n",
        "plt.title('Geometric Model of the Wheelchair')\n",
        "plt.grid(True)\n",
        "\n",
        "# Afficher le graphique\n",
        "plt.show()\n"
      ],
      "metadata": {
        "id": "gIHpxj36wZks",
        "colab": {
          "base_uri": "https://localhost:8080/",
          "height": 509
        },
        "outputId": "cfcfaa0a-1a93-4a91-888a-bb49cc0eba11"
      },
      "execution_count": null,
      "outputs": [
        {
          "output_type": "stream",
          "name": "stderr",
          "text": [
            "<ipython-input-53-99f6709075af>:48: UserWarning: Attempting to set identical low and high xlims makes transformation singular; automatically expanding.\n",
            "  plt.xlim(-2, -2)  # Unités sur l'axe x\n"
          ]
        },
        {
          "output_type": "display_data",
          "data": {
            "text/plain": [
              "<Figure size 640x480 with 1 Axes>"
            ],
            "image/png": "[encoded data removed]"
          },
          "metadata": {}
        }
      ]
    },
    {
      "cell_type": "markdown",
      "metadata": {
        "id": "WCS9B4sRibxp"
      },
      "source": [
        "### Kinematic Modeling\n",
        "\n",
        "We assume that we can control the wheels angular velocities $\\omega_l = \\dot{\\phi}_l$ and $\\omega_r = \\dot{\\phi}_r$ (this is a *kinematic* model of the wheelchair).\n",
        "We also assume that the wheelchair fixed wheels roll without slipping.\n",
        "\n",
        "🧩 Establish the differential equations that relate $\\dot{x}$,\n",
        "$\\dot{y}$ and $\\dot{\\theta}$ with $\\omega_l$ and $\\omega_r$."
      ]
    },
    {
      "cell_type": "code",
      "source": [
        "import numpy as np\n",
        "\n",
        "def differential_drive_kinematics(omega_l, omega_r, theta, r, L):\n",
        "    # Calculate linear and angular velocities of the wheels\n",
        "    v_l = r * omega_l\n",
        "    v_r = r * omega_r\n",
        "\n",
        "    # Calculate average linear velocity of the robot\n",
        "    v = (v_r + v_l) / 2.0\n",
        "\n",
        "    # Calculate angular velocity of the robot\n",
        "    omega = (v_r - v_l) / L\n",
        "\n",
        "    # Calculate rates of change of x, y, and theta\n",
        "    x_dot = v * np.cos(theta)\n",
        "    y_dot = v * np.sin(theta)\n",
        "    theta_dot = (r / L) * (omega_r - omega_l)\n",
        "\n",
        "    return x_dot, y_dot, theta_dot\n"
      ],
      "metadata": {
        "id": "cuAn-hNKsc_Y"
      },
      "execution_count": null,
      "outputs": []
    },
    {
      "cell_type": "markdown",
      "metadata": {
        "id": "SEdN-sbyibxp"
      },
      "source": [
        "**TODO**"
      ]
    },
    {
      "cell_type": "markdown",
      "metadata": {
        "id": "V-sgCWCYibxp"
      },
      "source": [
        "### Analysis\n",
        "\n",
        "🧩 Show that if $\\omega_l$ and $\\omega_r$ are continuously differentiable functions of $(x, y, \\theta)$ (which includes the case of constant inputs), this system is well-posed."
      ]
    },
    {
      "cell_type": "markdown",
      "metadata": {
        "id": "GJUKw9zGibxp"
      },
      "source": [
        "**TODO**"
      ]
    },
    {
      "cell_type": "markdown",
      "metadata": {
        "id": "Y4S7NQmIibxp"
      },
      "source": [
        "🧩 Show that if $\\omega_l$ and $\\omega_r$ are constants, the maximal solution associated to any initial state is global. Is is still true of $\\omega_l$ and $\\omega_r$ are arbitrary continuously differentiable functions of $(x, y, \\theta)$ ?"
      ]
    },
    {
      "cell_type": "markdown",
      "metadata": {
        "id": "ckg3_v3Eibxp"
      },
      "source": [
        "**TODO**"
      ]
    },
    {
      "cell_type": "markdown",
      "metadata": {
        "id": "lqWr4W6Xibxp"
      },
      "source": [
        "### Vector Field\n",
        "\n",
        "In the sequel, `omega` is a function that computes the input vector $\\omega := (\\omega_l, \\omega_r)$ given the time $t$ and $(x, y, \\theta)$ (thus, it may depend on the time and/or on the system state if needed). For example:"
      ]
    },
    {
      "cell_type": "code",
      "execution_count": null,
      "metadata": {
        "id": "Wv1tq9YCibxq"
      },
      "outputs": [],
      "source": [
        "def omega(t, xytheta):\n",
        "    omega_l = (1 - l/4) * pi / r\n",
        "    omega_r = (1 + l/4) * pi / r\n",
        "    return array([omega_l, omega_r])"
      ]
    },
    {
      "cell_type": "markdown",
      "metadata": {
        "id": "qDp1Q29Zibxq"
      },
      "source": [
        "🧩 Implement a function `fun(t, xytheta)` that computes $(\\dot{x}, \\dot{y}, \\dot{\\theta})$ given the time $t$ and $(x,y,\\theta)$ (and implicitly the inputs $\\omega$ computed by the function `omega`)."
      ]
    },
    {
      "cell_type": "code",
      "execution_count": null,
      "metadata": {
        "id": "zR9CxiNlibxq"
      },
      "outputs": [],
      "source": [
        "pass"
      ]
    },
    {
      "cell_type": "markdown",
      "metadata": {
        "id": "NaxjpXwXibxq"
      },
      "source": [
        "### Simulation Setup\n",
        "\n",
        "🧩 Simulate the wheelchair dynamics for 4 seconds when $(x_0, y_0, \\theta_0)(t=0) = (0.0, 0.0, 0.0)$,\n",
        "and the wheels velocities are the constants $\\omega_l = (1 - \\ell/4)  \\pi / r \\mbox{ rad/s}$ and $\\omega_r = (1 + \\ell/4)  \\pi / r \\mbox{ rad/s}$.\n",
        "(Compute the dense outputs.)\n",
        "   "
      ]
    },
    {
      "cell_type": "code",
      "execution_count": null,
      "metadata": {
        "id": "ltQNufHcibxq"
      },
      "outputs": [],
      "source": [
        "pass"
      ]
    },
    {
      "cell_type": "markdown",
      "metadata": {
        "id": "EeEDrUTjibxq"
      },
      "source": [
        "🧩 Use the simulation results to draw the graphs of $x(t)$, $y(t)$ and $\\theta(t)$."
      ]
    },
    {
      "cell_type": "code",
      "execution_count": null,
      "metadata": {
        "id": "00HEVMVkibxq"
      },
      "outputs": [],
      "source": [
        "pass"
      ]
    },
    {
      "cell_type": "markdown",
      "metadata": {
        "id": "k3nG-jUBibxr"
      },
      "source": [
        "🧩 Use the simulation results to display the robot location every 0.5 second."
      ]
    },
    {
      "cell_type": "code",
      "execution_count": null,
      "metadata": {
        "id": "mcd4V8juibxr"
      },
      "outputs": [],
      "source": [
        "pass"
      ]
    },
    {
      "cell_type": "markdown",
      "metadata": {
        "id": "lmNzh2lnibxr"
      },
      "source": [
        "🧩 What should be the analytical expression of $x(t)$, $y(t)$ and $\\theta(t)$?"
      ]
    },
    {
      "cell_type": "markdown",
      "metadata": {
        "id": "9eXbPhdcibxr"
      },
      "source": [
        "**TODO**"
      ]
    },
    {
      "cell_type": "markdown",
      "metadata": {
        "id": "7-8kZOgvibxr"
      },
      "source": [
        "🧩 Do you experimental results match the theoretical results ? Draw the curves of the simulation error at time $t$ for $x$, $y$ and $\\theta$."
      ]
    },
    {
      "cell_type": "code",
      "execution_count": null,
      "metadata": {
        "id": "ciIxounvibxr"
      },
      "outputs": [],
      "source": [
        "pass"
      ]
    },
    {
      "cell_type": "markdown",
      "metadata": {
        "id": "N74BqQbJibxs"
      },
      "source": [
        "🧩 If needed, adjust the simulation parameters the simulated position error is less than $1\\, \\mathrm{ mm}$."
      ]
    },
    {
      "cell_type": "code",
      "execution_count": null,
      "metadata": {
        "id": "TnlBCVRXibxs"
      },
      "outputs": [],
      "source": [
        "pass"
      ]
    }
  ],
  "metadata": {
    "kernelspec": {
      "display_name": "Python 3 (ipykernel)",
      "language": "python",
      "name": "python3"
    },
    "language_info": {
      "codemirror_mode": {
        "name": "ipython",
        "version": 3
      },
      "file_extension": ".py",
      "mimetype": "text/x-python",
      "name": "python",
      "nbconvert_exporter": "python",
      "pygments_lexer": "ipython3",
      "version": "3.12.0"
    },
    "colab": {
      "provenance": []
    }
  },
  "nbformat": 4,
  "nbformat_minor": 0
}